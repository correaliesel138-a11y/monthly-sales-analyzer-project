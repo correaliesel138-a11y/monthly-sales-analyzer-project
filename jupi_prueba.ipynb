{
 "cells": [
  {
   "cell_type": "code",
   "execution_count": null,
   "id": "cf2c3e8a",
   "metadata": {
    "vscode": {
     "languageId": "plaintext"
    }
   },
   "outputs": [],
   "source": [
    "sales_data = [\n",
    "    {\"day\": 1, \"product_a\": 202, \"product_b\": 142, \"product_c\": 164},\n",
    "    {\"day\": 2, \"product_a\": 206, \"product_b\": 121, \"product_c\": 338},\n",
    "    {\"day\": 3, \"product_a\": 120, \"product_b\": 152, \"product_c\": 271},\n",
    "    {\"day\": 4, \"product_a\": 174, \"product_b\": 137, \"product_c\": 266},\n",
    "    {\"day\": 5, \"product_a\": 199, \"product_b\": 153, \"product_c\": 301},\n",
    "    {\"day\": 6, \"product_a\": 230, \"product_b\": 199, \"product_c\": 202},\n",
    "    {\"day\": 7, \"product_a\": 101, \"product_b\": 137, \"product_c\": 307},\n",
    "    {\"day\": 8, \"product_a\": 137, \"product_b\": 179, \"product_c\": 341},\n",
    "    {\"day\": 9, \"product_a\": 287, \"product_b\": 70, \"product_c\": 310},\n",
    "    {\"day\": 10, \"product_a\": 157, \"product_b\": 71, \"product_c\": 238},\n",
    "    {\"day\": 11, \"product_a\": 148, \"product_b\": 108, \"product_c\": 319},\n",
    "    {\"day\": 12, \"product_a\": 287, \"product_b\": 64, \"product_c\": 339},\n",
    "    {\"day\": 13, \"product_a\": 289, \"product_b\": 100, \"product_c\": 257},\n",
    "    {\"day\": 14, \"product_a\": 154, \"product_b\": 113, \"product_c\": 280},\n",
    "    {\"day\": 15, \"product_a\": 150, \"product_b\": 184, \"product_c\": 170},\n",
    "    {\"day\": 16, \"product_a\": 172, \"product_b\": 67, \"product_c\": 281},\n",
    "    {\"day\": 17, \"product_a\": 188, \"product_b\": 109, \"product_c\": 163},\n",
    "    {\"day\": 18, \"product_a\": 108, \"product_b\": 139, \"product_c\": 202},\n",
    "    {\"day\": 19, \"product_a\": 229, \"product_b\": 133, \"product_c\": 241},\n",
    "    {\"day\": 20, \"product_a\": 210, \"product_b\": 57, \"product_c\": 324}]"
   ]
  },
  {
   "cell_type": "code",
   "execution_count": null,
   "id": "4c640a0f",
   "metadata": {
    "vscode": {
     "languageId": "plaintext"
    }
   },
   "outputs": [],
   "source": [
    "def total_sales_by_product(data, product_key):\n",
    "    \"\"\"Calculates the total sales of a specific product in 30 days.\"\"\"\n",
    "         total=0\n",
    "         for values in data \n",
    "            total += values[product_key]\n",
    "            return = total"
   ]
  }
 ],
 "metadata": {
  "language_info": {
   "name": "python"
  }
 },
 "nbformat": 4,
 "nbformat_minor": 5
}
